{
 "cells": [
  {
   "cell_type": "code",
   "execution_count": 13,
   "id": "5f3adc4f-1d6b-403f-a1a5-857ee658ce8d",
   "metadata": {},
   "outputs": [],
   "source": [
    "#pandas\n",
    "# bibliotecas\n",
    "import pandas as pd             # objetos DataFrame e Series \n",
    "import numpy as np              # objetos arrays e matrizes"
   ]
  },
  {
   "cell_type": "code",
   "execution_count": 15,
   "id": "100689ef-cfea-40c4-90cd-3a6dcac3d69d",
   "metadata": {},
   "outputs": [],
   "source": [
    "df = pd.read_csv('C:/Users/maria/OneDrive/Área de Trabalho/Eletiva de Dados/Atividades/09/train_titanic.csv')"
   ]
  },
  {
   "cell_type": "code",
   "execution_count": 16,
   "id": "792c906c-c78b-4079-83a3-29ff1f445a49",
   "metadata": {},
   "outputs": [
    {
     "data": {
      "text/html": [
       "<div>\n",
       "<style scoped>\n",
       "    .dataframe tbody tr th:only-of-type {\n",
       "        vertical-align: middle;\n",
       "    }\n",
       "\n",
       "    .dataframe tbody tr th {\n",
       "        vertical-align: top;\n",
       "    }\n",
       "\n",
       "    .dataframe thead th {\n",
       "        text-align: right;\n",
       "    }\n",
       "</style>\n",
       "<table border=\"1\" class=\"dataframe\">\n",
       "  <thead>\n",
       "    <tr style=\"text-align: right;\">\n",
       "      <th></th>\n",
       "      <th>PassengerId</th>\n",
       "      <th>Survived</th>\n",
       "      <th>Pclass</th>\n",
       "      <th>Name</th>\n",
       "      <th>Sex</th>\n",
       "      <th>Age</th>\n",
       "      <th>SibSp</th>\n",
       "      <th>Parch</th>\n",
       "      <th>Ticket</th>\n",
       "      <th>Fare</th>\n",
       "      <th>Cabin</th>\n",
       "      <th>Embarked</th>\n",
       "    </tr>\n",
       "  </thead>\n",
       "  <tbody>\n",
       "    <tr>\n",
       "      <th>0</th>\n",
       "      <td>1</td>\n",
       "      <td>0</td>\n",
       "      <td>3</td>\n",
       "      <td>Braund, Mr. Owen Harris</td>\n",
       "      <td>male</td>\n",
       "      <td>22.0</td>\n",
       "      <td>1</td>\n",
       "      <td>0</td>\n",
       "      <td>A/5 21171</td>\n",
       "      <td>7.2500</td>\n",
       "      <td>NaN</td>\n",
       "      <td>S</td>\n",
       "    </tr>\n",
       "    <tr>\n",
       "      <th>1</th>\n",
       "      <td>2</td>\n",
       "      <td>1</td>\n",
       "      <td>1</td>\n",
       "      <td>Cumings, Mrs. John Bradley (Florence Briggs Th...</td>\n",
       "      <td>female</td>\n",
       "      <td>38.0</td>\n",
       "      <td>1</td>\n",
       "      <td>0</td>\n",
       "      <td>PC 17599</td>\n",
       "      <td>71.2833</td>\n",
       "      <td>C85</td>\n",
       "      <td>C</td>\n",
       "    </tr>\n",
       "    <tr>\n",
       "      <th>2</th>\n",
       "      <td>3</td>\n",
       "      <td>1</td>\n",
       "      <td>3</td>\n",
       "      <td>Heikkinen, Miss. Laina</td>\n",
       "      <td>female</td>\n",
       "      <td>26.0</td>\n",
       "      <td>0</td>\n",
       "      <td>0</td>\n",
       "      <td>STON/O2. 3101282</td>\n",
       "      <td>7.9250</td>\n",
       "      <td>NaN</td>\n",
       "      <td>S</td>\n",
       "    </tr>\n",
       "  </tbody>\n",
       "</table>\n",
       "</div>"
      ],
      "text/plain": [
       "   PassengerId  Survived  Pclass  \\\n",
       "0            1         0       3   \n",
       "1            2         1       1   \n",
       "2            3         1       3   \n",
       "\n",
       "                                                Name     Sex   Age  SibSp  \\\n",
       "0                            Braund, Mr. Owen Harris    male  22.0      1   \n",
       "1  Cumings, Mrs. John Bradley (Florence Briggs Th...  female  38.0      1   \n",
       "2                             Heikkinen, Miss. Laina  female  26.0      0   \n",
       "\n",
       "   Parch            Ticket     Fare Cabin Embarked  \n",
       "0      0         A/5 21171   7.2500   NaN        S  \n",
       "1      0          PC 17599  71.2833   C85        C  \n",
       "2      0  STON/O2. 3101282   7.9250   NaN        S  "
      ]
     },
     "execution_count": 16,
     "metadata": {},
     "output_type": "execute_result"
    }
   ],
   "source": [
    "# 3 primeiras linhas\n",
    "df.head(3)"
   ]
  },
  {
   "cell_type": "code",
   "execution_count": 19,
   "id": "533b5222-27a1-466c-a755-7a492d953d8e",
   "metadata": {},
   "outputs": [
    {
     "name": "stdout",
     "output_type": "stream",
     "text": [
      "38.38% dos passageiros sobreviveram ao Titanic.\n"
     ]
    }
   ],
   "source": [
    "#Qual a porcentagem de passageiros sobreviveram ao titanic?\n",
    "\n",
    "# Número de sobreviventes\n",
    "sobreviventes = df['Survived'].sum()\n",
    "\n",
    "# Total de passageiros\n",
    "total_passageiros = len(df)\n",
    "\n",
    "# Cálculo\n",
    "percentual_sobreviventes = (sobreviventes / total_passageiros) * 100\n",
    "print(f\"{percentual_sobreviventes:.2f}% dos passageiros sobreviveram ao Titanic.\")"
   ]
  },
  {
   "cell_type": "code",
   "execution_count": 20,
   "id": "86813047-06ba-4678-9f70-2dbb69a6b0bd",
   "metadata": {},
   "outputs": [
    {
     "name": "stdout",
     "output_type": "stream",
     "text": [
      "55.11% dos passageiros é da 3º Classe.\n"
     ]
    }
   ],
   "source": [
    "#Qual a porcentagem de passageiros que viajaram de terceira classe?\n",
    "\n",
    "# Número de passagueiros de terceira classe\n",
    "terceira_classe = df[df['Pclass'] == 3]\n",
    "\n",
    "# Número de passageiros da terceira classe\n",
    "num_terceira_classe = len(terceira_classe)\n",
    "\n",
    "# Total de passageiros\n",
    "total_passageiros = len(df)\n",
    "\n",
    "# Cálculo\n",
    "percentual_3_classe = (num_terceira_classe / total_passageiros) * 100\n",
    "print(f\"{percentual_3_classe:.2f}% dos passageiros é da 3º Classe.\")"
   ]
  },
  {
   "cell_type": "code",
   "execution_count": 21,
   "id": "09470bff-77f6-41e2-a48a-90bba128ffba",
   "metadata": {},
   "outputs": [
    {
     "name": "stdout",
     "output_type": "stream",
     "text": [
      "A média da idade é 29.70 anos e a mediana é 28.00 anos.\n"
     ]
    }
   ],
   "source": [
    "#Quais as idades médias e medianas dos passageiros?\n",
    "\n",
    "IdadeMedia = df['Age'].mean() # Média\n",
    "IdadeMediana = df['Age'].median() # Mediana\n",
    "\n",
    "print(f\"A média da idade é {IdadeMedia:.2f} anos e a mediana é {IdadeMediana:.2f} anos.\")"
   ]
  },
  {
   "cell_type": "code",
   "execution_count": 27,
   "id": "b5ace16f-46f1-4ae4-8409-851066319627",
   "metadata": {},
   "outputs": [
    {
     "name": "stdout",
     "output_type": "stream",
     "text": [
      "A mádia dos valores das passagens é 32.20 reais e a mediana é 14.45 reais\n"
     ]
    }
   ],
   "source": [
    "#Quais valores das tarifas médias e medianas foram pagos pelos passageiros?\n",
    "\n",
    "ValorMedio = df['Fare'].mean() #Média\n",
    "ValorMediano = df['Fare'].median() #Mediana\n",
    "\n",
    "print(f\"A mádia dos valores das passagens é {ValorMedio:.2f} reais e a mediana é {ValorMediano:.2f} reais\")"
   ]
  },
  {
   "cell_type": "code",
   "execution_count": 29,
   "id": "5ba0f2ed-04f8-45b8-9ebf-837aedbc4cea",
   "metadata": {},
   "outputs": [
    {
     "name": "stdout",
     "output_type": "stream",
     "text": [
      "Cabin\n",
      "B96 B98        4\n",
      "G6             4\n",
      "C23 C25 C27    4\n",
      "C22 C26        3\n",
      "F33            3\n",
      "              ..\n",
      "E34            1\n",
      "C7             1\n",
      "C54            1\n",
      "E36            1\n",
      "C148           1\n",
      "Name: count, Length: 147, dtype: int64\n"
     ]
    }
   ],
   "source": [
    "#Quais cabines mais frequentes nos dados e qual a frequência?\n",
    "\n",
    "UsabilidadeCabines= df['Cabin'].value_counts()\n",
    "print(UsabilidadeCabines)"
   ]
  },
  {
   "cell_type": "code",
   "execution_count": 31,
   "id": "c3ffed23-00a1-4234-ad96-3fe6e39faeb9",
   "metadata": {},
   "outputs": [
    {
     "name": "stdout",
     "output_type": "stream",
     "text": [
      "Quantidade de valores faltantes na coluna 'Cabin': 687\n"
     ]
    }
   ],
   "source": [
    "#Quantos valores estão faltantes na coluna Cabin?\n",
    "\n",
    "faltantes_cabin = df['Cabin'].isna().sum()\n",
    "print(f\"Quantidade de valores faltantes na coluna 'Cabin': {faltantes_cabin}\")"
   ]
  },
  {
   "cell_type": "code",
   "execution_count": 33,
   "id": "3ee24e1e-677a-4110-90c0-fab0fecd7b7d",
   "metadata": {},
   "outputs": [
    {
     "name": "stdout",
     "output_type": "stream",
     "text": [
      "Sex\n",
      "female    233\n",
      "male      109\n",
      "Name: count, dtype: int64\n"
     ]
    }
   ],
   "source": [
    "#Sobreviveram mais mulheres ou homens?\n",
    "\n",
    "# Agrupar os sobreviventes por sexo\n",
    "sobreviventes_por_sexo = df[df['Survived'] == 1]['Sex'].value_counts()\n",
    "print(sobreviventes_por_sexo)"
   ]
  },
  {
   "cell_type": "code",
   "execution_count": 35,
   "id": "6af3fbf3-8133-43f4-9031-3f494b090c87",
   "metadata": {},
   "outputs": [
    {
     "name": "stdout",
     "output_type": "stream",
     "text": [
      "Pclass\n",
      "1    39.766082\n",
      "3    34.795322\n",
      "2    25.438596\n",
      "Name: proportion, dtype: float64\n"
     ]
    }
   ],
   "source": [
    "#Quais as porcentagens de sobreviventes em cada classe?\n",
    "\n",
    "#Agupar Classe dos sobreviventes e suas porcentagens\n",
    "Sobreviventes_por_classe = df[df['Survived'] == 1]['Pclass'].value_counts(normalize=True)*100 # (normalize=True) para retornar o percentual de cada categoria em relação ao total\n",
    "print(Sobreviventes_por_classe)"
   ]
  },
  {
   "cell_type": "code",
   "execution_count": 37,
   "id": "4ad4e963-8e04-472f-94cc-66cc7f37ebf8",
   "metadata": {},
   "outputs": [
    {
     "name": "stdout",
     "output_type": "stream",
     "text": [
      "Frequência de cada título:\n",
      "Title\n",
      "Mr              517\n",
      "Miss            182\n",
      "Mrs             125\n",
      "Master           40\n",
      "Dr                7\n",
      "Rev               6\n",
      "Mlle              2\n",
      "Major             2\n",
      "Col               2\n",
      "the Countess      1\n",
      "Capt              1\n",
      "Ms                1\n",
      "Sir               1\n",
      "Lady              1\n",
      "Mme               1\n",
      "Don               1\n",
      "Jonkheer          1\n",
      "Name: count, dtype: int64\n",
      "\n",
      "O título mais frequente é 'Mr' com 517 ocorrências.\n"
     ]
    }
   ],
   "source": [
    "#Os nomes vem com os títulos. Qual é o título mais frequente e qual a frequência?\n",
    "# Extrair os títulos dos nomes\n",
    "df['Title'] = df['Name'].str.extract(r',\\s*([^\\.]+)\\.')\n",
    "\n",
    "# Contar os títulos\n",
    "frequencia_titulos = df['Title'].value_counts()\n",
    "\n",
    "# Mostrar todos\n",
    "print(\"Frequência de cada título:\")\n",
    "print(frequencia_titulos)\n",
    "\n",
    "# Mostrar o título mais comum\n",
    "titulo_mais_comum = frequencia_titulos.idxmax()\n",
    "frequencia_mais_comum = frequencia_titulos.max()\n",
    "\n",
    "print(f\"\\nO título mais frequente é '{titulo_mais_comum}' com {frequencia_mais_comum} ocorrências.\")\n"
   ]
  },
  {
   "cell_type": "code",
   "execution_count": 39,
   "id": "f46adced-2267-462d-aa87-de687795bbd5",
   "metadata": {},
   "outputs": [
    {
     "name": "stdout",
     "output_type": "stream",
     "text": [
      "A taxa de sobrevivência entre menores de 12 anos é de 57.35%\n"
     ]
    }
   ],
   "source": [
    "#Qual a taxa de sobreviventes considerando apenas menores de 12 anos?\n",
    "\n",
    "# Filtrar menores de 12 anos\n",
    "menores_12 = df[df['Age'] < 12]\n",
    "\n",
    "# Contar quantos desses sobreviveram\n",
    "sobreviveram_menores_12 = menores_12['Survived'].sum()\n",
    "\n",
    "# Total de menores de 12 anos\n",
    "total_menores_12 = len(menores_12)\n",
    "\n",
    "# Calcular a taxa de sobrevivência\n",
    "taxa_sobrevivencia_menores_12 = (sobreviveram_menores_12 / total_menores_12) * 100\n",
    "\n",
    "print(f\"A taxa de sobrevivência entre menores de 12 anos é de {taxa_sobrevivencia_menores_12:.2f}%\")"
   ]
  },
  {
   "cell_type": "code",
   "execution_count": 41,
   "id": "84637ef1-c5cd-4922-be9a-00efd3f1709a",
   "metadata": {},
   "outputs": [
    {
     "name": "stdout",
     "output_type": "stream",
     "text": [
      "Deck\n",
      "C    25.74\n",
      "B    25.74\n",
      "D    18.38\n",
      "E    17.65\n",
      "F     5.88\n",
      "A     5.15\n",
      "G     1.47\n",
      "Name: proportion, dtype: float64\n"
     ]
    },
    {
     "name": "stderr",
     "output_type": "stream",
     "text": [
      "C:\\Users\\maria\\AppData\\Local\\Temp\\ipykernel_14572\\3216088898.py:7: SettingWithCopyWarning: \n",
      "A value is trying to be set on a copy of a slice from a DataFrame.\n",
      "Try using .loc[row_indexer,col_indexer] = value instead\n",
      "\n",
      "See the caveats in the documentation: https://pandas.pydata.org/pandas-docs/stable/user_guide/indexing.html#returning-a-view-versus-a-copy\n",
      "  df_com_cabine['Deck'] = df_com_cabine['Cabin'].str[0]\n"
     ]
    }
   ],
   "source": [
    "#A primeira letra da cabine representa o deck do barco. Desprezando os dados faltantes, qual porcertagem de sobreviventes por deck?\n",
    "\n",
    "# Remover linhas com valores ausentes em Cabin\n",
    "df_com_cabine = df.dropna(subset=['Cabin'])\n",
    "\n",
    "# Criar coluna com apenas a letra do deck (primeira letra da cabine)\n",
    "df_com_cabine['Deck'] = df_com_cabine['Cabin'].str[0]\n",
    "\n",
    "# Filtrar apenas os sobreviventes\n",
    "sobreviventes = df_com_cabine[df_com_cabine['Survived'] == 1]\n",
    "\n",
    "# Calcular proporção de sobreviventes por deck\n",
    "porcentagem_sobreviventes_por_deck = sobreviventes['Deck'].value_counts(normalize=True) * 100\n",
    "\n",
    "# Mostrar resultado com 2 casas decimais\n",
    "print(porcentagem_sobreviventes_por_deck.round(2))"
   ]
  },
  {
   "cell_type": "code",
   "execution_count": 43,
   "id": "70d60a63-fe88-4931-b8d8-4eaf398fcbba",
   "metadata": {},
   "outputs": [
    {
     "name": "stdout",
     "output_type": "stream",
     "text": [
      "A porcentagem de sobreviventes entre os passageiros sem informação de deck é 29.99%\n"
     ]
    }
   ],
   "source": [
    "#Qual a porcentagem de sobreviventes considerando apenas os decks faltantes?\n",
    "# Filtrar passageiros sem informação de cabine\n",
    "sem_cabine = df[df['Cabin'].isna()]\n",
    "\n",
    "# Número de passageiros sem cabine\n",
    "total_sem_cabine = len(sem_cabine)\n",
    "\n",
    "# Número de sobreviventes entre os que não têm cabine\n",
    "sobreviventes_sem_cabine = sem_cabine['Survived'].sum()\n",
    "\n",
    "# Porcentagem de sobreviventes\n",
    "porcentagem_sobreviventes_sem_cabine = (sobreviventes_sem_cabine / total_sem_cabine) * 100\n",
    "\n",
    "print(f\"A porcentagem de sobreviventes entre os passageiros sem informação de deck é {porcentagem_sobreviventes_sem_cabine:.2f}%\")\n"
   ]
  },
  {
   "cell_type": "code",
   "execution_count": 45,
   "id": "1a6bf8c9-3c31-46b9-ad9e-274cc2a6166a",
   "metadata": {},
   "outputs": [
    {
     "name": "stdout",
     "output_type": "stream",
     "text": [
      "A porcentagem de mulheres da 1ª classe que sobreviveram é 96.81%\n"
     ]
    }
   ],
   "source": [
    "#Qual porcentagem de mulheres da primeira classe sobreviveram?\n",
    "# Filtrar mulheres da 1ª classe\n",
    "mulheres_primeira_classe = df[(df['Sex'] == 'female') & (df['Pclass'] == 1)]\n",
    "\n",
    "# Total de mulheres da 1ª classe\n",
    "total_mulheres_primeira = len(mulheres_primeira_classe)\n",
    "\n",
    "# Número de sobreviventes nesse grupo\n",
    "sobreviventes_mulheres_primeira = mulheres_primeira_classe['Survived'].sum()\n",
    "\n",
    "# Porcentagem de sobrevivência\n",
    "porcentagem_sobrevivencia = (sobreviventes_mulheres_primeira / total_mulheres_primeira) * 100\n",
    "\n",
    "print(f\"A porcentagem de mulheres da 1ª classe que sobreviveram é {porcentagem_sobrevivencia:.2f}%\")"
   ]
  },
  {
   "cell_type": "code",
   "execution_count": 47,
   "id": "486b3a8d-995a-40bf-b17e-8ee112e9ee7a",
   "metadata": {},
   "outputs": [
    {
     "name": "stdout",
     "output_type": "stream",
     "text": [
      "Frequência de embarque por portão (1ª classe):\n",
      "Embarked\n",
      "S    127\n",
      "C     85\n",
      "Q      2\n",
      "Name: count, dtype: int64\n",
      "\n",
      "O portão mais comum de embarque na 1ª classe foi 'S' com 127 passageiros.\n"
     ]
    }
   ],
   "source": [
    "#Por qual portão os passageiros da primeira classe mais embarcaram?\n",
    "\n",
    "# Filtrar apenas passageiros da 1ª classe\n",
    "primeira_classe = df[df['Pclass'] == 1]\n",
    "\n",
    "# Contar frequência de embarque por portão\n",
    "embarques_por_portao = primeira_classe['Embarked'].value_counts()\n",
    "\n",
    "# Exibir resultados\n",
    "print(\"Frequência de embarque por portão (1ª classe):\")\n",
    "print(embarques_por_portao)\n",
    "\n",
    "# Mostrar o portão mais comum\n",
    "portao_mais_comum = embarques_por_portao.idxmax()\n",
    "qtd_mais_comum = embarques_por_portao.max()\n",
    "\n",
    "print(f\"\\nO portão mais comum de embarque na 1ª classe foi '{portao_mais_comum}' com {qtd_mais_comum} passageiros.\")\n"
   ]
  },
  {
   "cell_type": "code",
   "execution_count": 49,
   "id": "e2ccb2d5-6c8e-45bd-b495-91ee84758868",
   "metadata": {},
   "outputs": [
    {
     "name": "stdout",
     "output_type": "stream",
     "text": [
      "A idade média das mulheres sobreviventes é 28.85 anos.\n",
      "A idade média das mulheres não sobreviventes é 25.05 anos.\n"
     ]
    }
   ],
   "source": [
    "#Qual a idade média entre as mulheres sobreviventes? E entre as mulheres não sobreviventes?\n",
    "\n",
    "# Mulheres sobreviventes\n",
    "mulheres_sobreviventes = df[(df['Sex'] == 'female') & (df['Survived'] == 1)]\n",
    "idade_media_sobreviventes = mulheres_sobreviventes['Age'].mean()\n",
    "\n",
    "# Mulheres não sobreviventes\n",
    "mulheres_nao_sobreviventes = df[(df['Sex'] == 'female') & (df['Survived'] == 0)]\n",
    "idade_media_nao_sobreviventes = mulheres_nao_sobreviventes['Age'].mean()\n",
    "\n",
    "print(f\"A idade média das mulheres sobreviventes é {idade_media_sobreviventes:.2f} anos.\")\n",
    "print(f\"A idade média das mulheres não sobreviventes é {idade_media_nao_sobreviventes:.2f} anos.\")\n"
   ]
  },
  {
   "cell_type": "code",
   "execution_count": 51,
   "id": "45e2d0f9-55db-48b1-805a-460a466afbdc",
   "metadata": {},
   "outputs": [
    {
     "name": "stdout",
     "output_type": "stream",
     "text": [
      "A idade mediana dos homens da 1ª classe que sobreviveram é 36.00 anos.\n",
      "A idade mediana dos homens da 1ª classe que não sobreviveram é 45.50 anos.\n"
     ]
    }
   ],
   "source": [
    "#Qual a idade mediana entre os homens da primeira classe que sobreviveram? \n",
    "#Qual a idade mediana entre os homens da primeira classe que não sobreviveram?\n",
    "\n",
    "# Homens da 1ª classe que sobreviveram\n",
    "homens_1classe_sobreviventes = df[(df['Sex'] == 'male') & (df['Pclass'] == 1) & (df['Survived'] == 1)]\n",
    "idade_mediana_sobreviventes = homens_1classe_sobreviventes['Age'].median()\n",
    "\n",
    "# Homens da 1ª classe que não sobreviveram\n",
    "homens_1classe_nao_sobreviventes = df[(df['Sex'] == 'male') & (df['Pclass'] == 1) & (df['Survived'] == 0)]\n",
    "idade_mediana_nao_sobreviventes = homens_1classe_nao_sobreviventes['Age'].median()\n",
    "\n",
    "print(f\"A idade mediana dos homens da 1ª classe que sobreviveram é {idade_mediana_sobreviventes:.2f} anos.\")\n",
    "print(f\"A idade mediana dos homens da 1ª classe que não sobreviveram é {idade_mediana_nao_sobreviventes:.2f} anos.\")\n"
   ]
  },
  {
   "cell_type": "code",
   "execution_count": 53,
   "id": "03a0308e-df72-4993-8361-3c20545185bb",
   "metadata": {},
   "outputs": [
    {
     "name": "stdout",
     "output_type": "stream",
     "text": [
      "Distribuição de decks (não sobreviventes):\n",
      " Cabin\n",
      "C    35.294118\n",
      "B    17.647059\n",
      "E    11.764706\n",
      "A    11.764706\n",
      "D    11.764706\n",
      "F     7.352941\n",
      "G     2.941176\n",
      "T     1.470588\n",
      "Name: proportion, dtype: float64\n",
      "\n",
      "Distribuição de gêneros (não sobreviventes):\n",
      " Sex\n",
      "male      85.245902\n",
      "female    14.754098\n",
      "Name: proportion, dtype: float64\n",
      "\n",
      "Distribuição de embarques (não sobreviventes):\n",
      " Embarked\n",
      "S    77.777778\n",
      "C    13.661202\n",
      "Q     8.561020\n",
      "Name: proportion, dtype: float64\n"
     ]
    }
   ],
   "source": [
    "#Considerando as possíveis ternas (deck, local de embarque, sexo), qual terna teve maior porcentagem de não sobreviventes?\n",
    "\n",
    "# Filtrar apenas os não sobreviventes\n",
    "nao_sobreviventes = df[df['Survived'] == 0]\n",
    "\n",
    "# Extrair o deck da cabine (primeira letra), somente onde Cabin não é nulo\n",
    "cabine = nao_sobreviventes['Cabin'].dropna().map(lambda x: str(x)[0]).value_counts(normalize=True) * 100\n",
    "\n",
    "# Contar gênero entre não sobreviventes\n",
    "genero = nao_sobreviventes['Sex'].value_counts(normalize=True) * 100\n",
    "\n",
    "# Contar local de embarque entre não sobreviventes\n",
    "embarque = nao_sobreviventes['Embarked'].dropna().value_counts(normalize=True) * 100\n",
    "\n",
    "print(\"Distribuição de decks (não sobreviventes):\\n\", cabine)\n",
    "print(\"\\nDistribuição de gêneros (não sobreviventes):\\n\", genero)\n",
    "print(\"\\nDistribuição de embarques (não sobreviventes):\\n\", embarque)"
   ]
  },
  {
   "cell_type": "code",
   "execution_count": 55,
   "id": "45037f0e-463f-4b4b-9f03-4e57adaff1ac",
   "metadata": {},
   "outputs": [
    {
     "data": {
      "text/html": [
       "<div>\n",
       "<style scoped>\n",
       "    .dataframe tbody tr th:only-of-type {\n",
       "        vertical-align: middle;\n",
       "    }\n",
       "\n",
       "    .dataframe tbody tr th {\n",
       "        vertical-align: top;\n",
       "    }\n",
       "\n",
       "    .dataframe thead th {\n",
       "        text-align: right;\n",
       "    }\n",
       "</style>\n",
       "<table border=\"1\" class=\"dataframe\">\n",
       "  <thead>\n",
       "    <tr style=\"text-align: right;\">\n",
       "      <th></th>\n",
       "      <th>treatmenta</th>\n",
       "      <th>treatmentb</th>\n",
       "    </tr>\n",
       "  </thead>\n",
       "  <tbody>\n",
       "    <tr>\n",
       "      <th>John Smith</th>\n",
       "      <td>NaN</td>\n",
       "      <td>2</td>\n",
       "    </tr>\n",
       "    <tr>\n",
       "      <th>Jane Doe</th>\n",
       "      <td>16.0</td>\n",
       "      <td>11</td>\n",
       "    </tr>\n",
       "    <tr>\n",
       "      <th>Mary Johnson</th>\n",
       "      <td>3.0</td>\n",
       "      <td>1</td>\n",
       "    </tr>\n",
       "  </tbody>\n",
       "</table>\n",
       "</div>"
      ],
      "text/plain": [
       "              treatmenta  treatmentb\n",
       "John Smith           NaN           2\n",
       "Jane Doe            16.0          11\n",
       "Mary Johnson         3.0           1"
      ]
     },
     "execution_count": 55,
     "metadata": {},
     "output_type": "execute_result"
    }
   ],
   "source": [
    "table01 = pd.DataFrame({\n",
    "    \"treatmenta\": [np.NaN, 16, 3],\n",
    "    \"treatmentb\": [2, 11, 1]\n",
    "}, index = [\"John Smith\", \"Jane Doe\", \"Mary Johnson\"])\n",
    "table01"
   ]
  },
  {
   "cell_type": "code",
   "execution_count": 57,
   "id": "005cebd2-e734-489c-bc61-f144e9a7da74",
   "metadata": {},
   "outputs": [
    {
     "name": "stderr",
     "output_type": "stream",
     "text": [
      "C:\\Users\\maria\\AppData\\Local\\Temp\\ipykernel_14572\\1744303825.py:2: FutureWarning: The previous implementation of stack is deprecated and will be removed in a future version of pandas. See the What's New notes for pandas 2.1.0 for details. Specify future_stack=True to adopt the new implementation and silence this warning.\n",
      "  table01 = table01.stack(dropna=False).reset_index()\n"
     ]
    },
    {
     "data": {
      "text/html": [
       "<div>\n",
       "<style scoped>\n",
       "    .dataframe tbody tr th:only-of-type {\n",
       "        vertical-align: middle;\n",
       "    }\n",
       "\n",
       "    .dataframe tbody tr th {\n",
       "        vertical-align: top;\n",
       "    }\n",
       "\n",
       "    .dataframe thead th {\n",
       "        text-align: right;\n",
       "    }\n",
       "</style>\n",
       "<table border=\"1\" class=\"dataframe\">\n",
       "  <thead>\n",
       "    <tr style=\"text-align: right;\">\n",
       "      <th></th>\n",
       "      <th>person</th>\n",
       "      <th>treatment</th>\n",
       "      <th>result</th>\n",
       "    </tr>\n",
       "  </thead>\n",
       "  <tbody>\n",
       "    <tr>\n",
       "      <th>0</th>\n",
       "      <td>John Smith</td>\n",
       "      <td>a</td>\n",
       "      <td>NaN</td>\n",
       "    </tr>\n",
       "    <tr>\n",
       "      <th>1</th>\n",
       "      <td>John Smith</td>\n",
       "      <td>b</td>\n",
       "      <td>2.0</td>\n",
       "    </tr>\n",
       "    <tr>\n",
       "      <th>2</th>\n",
       "      <td>Jane Doe</td>\n",
       "      <td>a</td>\n",
       "      <td>16.0</td>\n",
       "    </tr>\n",
       "    <tr>\n",
       "      <th>3</th>\n",
       "      <td>Jane Doe</td>\n",
       "      <td>b</td>\n",
       "      <td>11.0</td>\n",
       "    </tr>\n",
       "    <tr>\n",
       "      <th>4</th>\n",
       "      <td>Mary Johnson</td>\n",
       "      <td>a</td>\n",
       "      <td>3.0</td>\n",
       "    </tr>\n",
       "    <tr>\n",
       "      <th>5</th>\n",
       "      <td>Mary Johnson</td>\n",
       "      <td>b</td>\n",
       "      <td>1.0</td>\n",
       "    </tr>\n",
       "  </tbody>\n",
       "</table>\n",
       "</div>"
      ],
      "text/plain": [
       "         person treatment  result\n",
       "0    John Smith         a     NaN\n",
       "1    John Smith         b     2.0\n",
       "2      Jane Doe         a    16.0\n",
       "3      Jane Doe         b    11.0\n",
       "4  Mary Johnson         a     3.0\n",
       "5  Mary Johnson         b     1.0"
      ]
     },
     "execution_count": 57,
     "metadata": {},
     "output_type": "execute_result"
    }
   ],
   "source": [
    "table01.columns = [\"a\", \"b\"]\n",
    "table01 = table01.stack(dropna=False).reset_index()\n",
    "table01.columns = ['person', 'treatment', 'result']\n",
    "table01"
   ]
  },
  {
   "cell_type": "code",
   "execution_count": 59,
   "id": "993b1d88-2435-4956-915b-feb5a91fd7ac",
   "metadata": {},
   "outputs": [
    {
     "name": "stdout",
     "output_type": "stream",
     "text": [
      "   religion   income  freq\n",
      "0  Agnostic    <$10k    27\n",
      "1   Atheist    <$10k    12\n",
      "2  Agnostic  $10–20k    34\n",
      "3   Atheist  $10–20k    27\n",
      "4  Agnostic  $20–30k    60\n",
      "5   Atheist  $20–30k    37\n"
     ]
    }
   ],
   "source": [
    "import pandas as pd\n",
    "\n",
    "# Tabela 4: colunas de renda como nomes de colunas, e religião como linha\n",
    "# Transformar em tidy: cada linha será uma combinação de religião e faixa de renda\n",
    "\n",
    "df = pd.DataFrame({\n",
    "    'religion': ['Agnostic', 'Atheist'],\n",
    "    '<$10k': [27, 12],\n",
    "    '$10–20k': [34, 27],\n",
    "    '$20–30k': [60, 37]\n",
    "})\n",
    "\n",
    "# Aplica melt para transformar as colunas de renda em uma variável\n",
    "df_tidy = df.melt(id_vars='religion', var_name='income', value_name='freq')\n",
    "print(df_tidy)\n"
   ]
  },
  {
   "cell_type": "code",
   "execution_count": 61,
   "id": "78a99e7c-384a-414a-8e5e-d32f2eaf95ab",
   "metadata": {},
   "outputs": [
    {
     "name": "stdout",
     "output_type": "stream",
     "text": [
      "   year artist  time           track       date  week  rank\n",
      "0  2000  2 Pac  4:22  Baby Don't Cry 2000-02-26     1    87\n",
      "1  2000  2 Pac  4:22  Baby Don't Cry 2000-03-04     2    82\n",
      "2  2000  2 Pac  4:22  Baby Don't Cry 2000-03-11     3    72\n"
     ]
    },
    {
     "name": "stderr",
     "output_type": "stream",
     "text": [
      "<>:25: SyntaxWarning: invalid escape sequence '\\d'\n",
      "<>:25: SyntaxWarning: invalid escape sequence '\\d'\n",
      "C:\\Users\\maria\\AppData\\Local\\Temp\\ipykernel_14572\\2941860032.py:25: SyntaxWarning: invalid escape sequence '\\d'\n",
      "  df_melt['week'] = df_melt['week'].str.extract('(\\d+)').astype(int)\n"
     ]
    }
   ],
   "source": [
    "from datetime import timedelta\n",
    "\n",
    "# Tabela 7: informações da música em colunas fixas e rankings espalhados em colunas wk1 a wkN\n",
    "# Transformar para tidy com colunas: artist, track, date, week, rank\n",
    "\n",
    "df = pd.DataFrame({\n",
    "    'year': [2000],\n",
    "    'artist': ['2 Pac'],\n",
    "    'track': [\"Baby Don't Cry\"],\n",
    "    'time': ['4:22'],\n",
    "    'date_entered': ['2000-02-26'],\n",
    "    'wk1': [87],\n",
    "    'wk2': [82],\n",
    "    'wk3': [72]\n",
    "})\n",
    "\n",
    "# Derrete colunas de semana para criar colunas week e rank\n",
    "df_melt = df.melt(\n",
    "    id_vars=['year', 'artist', 'track', 'time', 'date_entered'],\n",
    "    var_name='week',\n",
    "    value_name='rank'\n",
    ")\n",
    "\n",
    "# Extrai número da semana e cria coluna com data real usando timedelta\n",
    "df_melt['week'] = df_melt['week'].str.extract('(\\d+)').astype(int)\n",
    "df_melt['date'] = pd.to_datetime(df_melt['date_entered']) + pd.to_timedelta((df_melt['week'] - 1) * 7, unit='d')\n",
    "print(df_melt[['year', 'artist', 'time', 'track', 'date', 'week', 'rank']])\n"
   ]
  },
  {
   "cell_type": "code",
   "execution_count": 63,
   "id": "0eb48b72-8b37-4d49-a480-d5ffcacf214b",
   "metadata": {},
   "outputs": [
    {
     "name": "stdout",
     "output_type": "stream",
     "text": [
      "  country  year  cases sex   age\n",
      "0      AD  2000    0.0   m   014\n",
      "1      AE  2000    2.0   m   014\n",
      "2      AD  2000    0.0   m  1524\n",
      "3      AE  2000    4.0   m  1524\n",
      "4      AD  2000    NaN   f   014\n",
      "5      AE  2000    3.0   f   014\n"
     ]
    }
   ],
   "source": [
    "# Tabela 9 e 10a: colunas combinam sexo e idade (ex: m014, f1524)\n",
    "# Transformar para tidy com colunas separadas de sex, age, e cases\n",
    "\n",
    "df = pd.DataFrame({\n",
    "    'country': ['AD', 'AE'],\n",
    "    'year': [2000, 2000],\n",
    "    'm014': [0, 2],\n",
    "    'm1524': [0, 4],\n",
    "    'f014': [None, 3]\n",
    "})\n",
    "\n",
    "# Aplica melt para criar coluna 'group' com nomes compostos e 'cases' com valores\n",
    "df_melt = df.melt(id_vars=['country', 'year'], var_name='group', value_name='cases')\n",
    "\n",
    "# Separa 'group' em 'sex' e 'age'\n",
    "df_melt['sex'] = df_melt['group'].str[0]\n",
    "df_melt['age'] = df_melt['group'].str[1:]\n",
    "df_melt = df_melt.drop(columns='group')\n",
    "print(df_melt)\n"
   ]
  },
  {
   "cell_type": "code",
   "execution_count": 65,
   "id": "4394ebae-f51c-4162-b3cd-e9a47b16d558",
   "metadata": {},
   "outputs": [
    {
     "name": "stderr",
     "output_type": "stream",
     "text": [
      "<>:17: SyntaxWarning: invalid escape sequence '\\d'\n",
      "<>:17: SyntaxWarning: invalid escape sequence '\\d'\n",
      "C:\\Users\\maria\\AppData\\Local\\Temp\\ipykernel_14572\\3547390154.py:17: SyntaxWarning: invalid escape sequence '\\d'\n",
      "  df_melt['day'] = df_melt['day'].str.extract('(\\d+)').astype(int)\n"
     ]
    },
    {
     "name": "stdout",
     "output_type": "stream",
     "text": [
      "element       id       date  tmax  tmin\n",
      "0        MX17004 2010-01-01  27.8  14.5\n",
      "1        MX17004 2010-01-02  28.0  14.8\n"
     ]
    }
   ],
   "source": [
    "# Tabela 11: linhas com elemento tmin/tmax e colunas d1 a d31 com valores\n",
    "# Transformar para tidy com colunas separadas para tmin e tmax por dia\n",
    "\n",
    "df = pd.DataFrame({\n",
    "    'id': ['MX17004', 'MX17004'],\n",
    "    'year': [2010, 2010],\n",
    "    'month': [1, 1],\n",
    "    'element': ['tmax', 'tmin'],\n",
    "    'd1': [27.8, 14.5],\n",
    "    'd2': [28.0, 14.8]\n",
    "})\n",
    "\n",
    "# Derrete as colunas de dia\n",
    "df_melt = df.melt(id_vars=['id', 'year', 'month', 'element'], var_name='day', value_name='value')\n",
    "\n",
    "# Extrai o número do dia da string (ex: 'd1' → 1)\n",
    "df_melt['day'] = df_melt['day'].str.extract('(\\d+)').astype(int)\n",
    "\n",
    "# Cria coluna de data completa\n",
    "df_melt['date'] = pd.to_datetime(dict(year=df_melt.year, month=df_melt.month, day=df_melt.day), errors='coerce')\n",
    "\n",
    "# Faz pivot para colocar tmin e tmax em colunas distintas\n",
    "df_tidy = df_melt.pivot_table(index=['id', 'date'], columns='element', values='value').reset_index()\n",
    "print(df_tidy)\n"
   ]
  },
  {
   "cell_type": "code",
   "execution_count": 67,
   "id": "8cf71bfd-ef7e-4d55-8c9c-de3c7b5fbc2a",
   "metadata": {},
   "outputs": [
    {
     "name": "stdout",
     "output_type": "stream",
     "text": [
      "   id variable  value\n",
      "0   1        x  22.19\n",
      "1   2        x  19.82\n",
      "2   3        x  19.81\n",
      "3   1        y  24.05\n",
      "4   2        y  22.91\n",
      "5   3        y  21.19\n"
     ]
    }
   ],
   "source": [
    "# Tabela 14a: x e y como colunas\n",
    "# Transformar em tidy para que variável (x ou y) fique em uma linha por id\n",
    "\n",
    "df = pd.DataFrame({\n",
    "    'id': [1, 2, 3],\n",
    "    'x': [22.19, 19.82, 19.81],\n",
    "    'y': [24.05, 22.91, 21.19]\n",
    "})\n",
    "\n",
    "# Derrete x e y para coluna 'variable' e 'value'\n",
    "df_tidy = df.melt(id_vars='id', var_name='variable', value_name='value')\n",
    "print(df_tidy)\n"
   ]
  }
 ],
 "metadata": {
  "kernelspec": {
   "display_name": "Python [conda env:base] *",
   "language": "python",
   "name": "conda-base-py"
  },
  "language_info": {
   "codemirror_mode": {
    "name": "ipython",
    "version": 3
   },
   "file_extension": ".py",
   "mimetype": "text/x-python",
   "name": "python",
   "nbconvert_exporter": "python",
   "pygments_lexer": "ipython3",
   "version": "3.12.7"
  }
 },
 "nbformat": 4,
 "nbformat_minor": 5
}
